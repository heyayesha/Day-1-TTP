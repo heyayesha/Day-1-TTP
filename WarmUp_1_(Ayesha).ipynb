{
  "nbformat": 4,
  "nbformat_minor": 0,
  "metadata": {
    "colab": {
      "name": "WarmUp 1 (Ayesha).ipynb",
      "provenance": [],
      "collapsed_sections": [],
      "authorship_tag": "ABX9TyPX3jE6PiE1kHX4jxTEgOO2",
      "include_colab_link": true
    },
    "kernelspec": {
      "name": "python3",
      "display_name": "Python 3"
    },
    "language_info": {
      "name": "python"
    }
  },
  "cells": [
    {
      "cell_type": "markdown",
      "metadata": {
        "id": "view-in-github",
        "colab_type": "text"
      },
      "source": [
        "<a href=\"https://colab.research.google.com/github/heyayesha/Day-1-TTP/blob/main/WarmUp_1_(Ayesha).ipynb\" target=\"_parent\"><img src=\"https://colab.research.google.com/assets/colab-badge.svg\" alt=\"Open In Colab\"/></a>"
      ]
    },
    {
      "cell_type": "markdown",
      "source": [
        "#WarmUp1 - class Task"
      ],
      "metadata": {
        "id": "HRFJQosgaMhA"
      }
    },
    {
      "cell_type": "markdown",
      "source": [
        "Using the Slice Syntax"
      ],
      "metadata": {
        "id": "dR81y-9mc2m3"
      }
    },
    {
      "cell_type": "code",
      "source": [
        "#1. Select a set of characters from “Hello World” to print\n",
        "txt = 'Hello World'\n",
        "print(txt[2:5])\n",
        "#In previous line i print 2 letter 3 and 5"
      ],
      "metadata": {
        "colab": {
          "base_uri": "https://localhost:8080/"
        },
        "id": "ZXcUbPbQafbN",
        "outputId": "97d4ffce-ae44-4ba5-f711-15633feac7ab"
      },
      "execution_count": 1,
      "outputs": [
        {
          "output_type": "stream",
          "name": "stdout",
          "text": [
            "llo\n"
          ]
        }
      ]
    },
    {
      "cell_type": "code",
      "source": [
        "#2.\n",
        "text = \"Hello World\"[::-1]\n",
        "print(text)\n",
        "# here the reverse of \"Hellow World\" is dlroW olleH"
      ],
      "metadata": {
        "colab": {
          "base_uri": "https://localhost:8080/"
        },
        "id": "FoymPDKIafYr",
        "outputId": "8eab5879-90b5-4fee-e76d-4a7c51353641"
      },
      "execution_count": 2,
      "outputs": [
        {
          "output_type": "stream",
          "name": "stdout",
          "text": [
            "dlroW olleH\n"
          ]
        }
      ]
    },
    {
      "cell_type": "markdown",
      "source": [
        "Using the input() function"
      ],
      "metadata": {
        "id": "Fjr2_bumdA2E"
      }
    },
    {
      "cell_type": "code",
      "source": [
        "#3\n",
        "useIn = input() [::-1]\n",
        "print(useIn)\n",
        "#reverse operation has done"
      ],
      "metadata": {
        "colab": {
          "base_uri": "https://localhost:8080/"
        },
        "id": "Kh4yoi6QafWr",
        "outputId": "2ca9d34e-9592-4f67-a33c-8e14af17184f"
      },
      "execution_count": 3,
      "outputs": [
        {
          "output_type": "stream",
          "name": "stdout",
          "text": [
            "Hi there!\n",
            "!ereht iH\n"
          ]
        }
      ]
    },
    {
      "cell_type": "code",
      "source": [
        "#4\n",
        "sentence = input('hi there, ')\n",
        "print(sentence)\n",
        "# here, reverse operation has done"
      ],
      "metadata": {
        "colab": {
          "base_uri": "https://localhost:8080/"
        },
        "id": "BYbPlvLBafUW",
        "outputId": "b59bee3e-47c3-4dc3-cb7b-7029cdb77b73"
      },
      "execution_count": 5,
      "outputs": [
        {
          "output_type": "stream",
          "name": "stdout",
          "text": [
            "hi there, Hope you are doing well.\n",
            "Hope you are doing well.\n"
          ]
        }
      ]
    },
    {
      "cell_type": "markdown",
      "source": [
        "Using the type() function, print out the type of three objects"
      ],
      "metadata": {
        "id": "AuaIW1mDdMRS"
      }
    },
    {
      "cell_type": "code",
      "source": [
        "#5\n",
        "name = 'iphone'\n",
        "model = 13\n",
        "size = 6.7\n",
        "print('The type is: ', type(name), type(model), type(size))\n",
        "# I have used three types of objects called name, model and size"
      ],
      "metadata": {
        "colab": {
          "base_uri": "https://localhost:8080/"
        },
        "id": "VVB1vQPDafRs",
        "outputId": "d289cd3d-88cd-4143-e7cf-6e31062fd2c1"
      },
      "execution_count": 6,
      "outputs": [
        {
          "output_type": "stream",
          "name": "stdout",
          "text": [
            "The type is:  <class 'str'> <class 'int'> <class 'float'>\n"
          ]
        }
      ]
    },
    {
      "cell_type": "markdown",
      "source": [
        "Perform algebraic operations"
      ],
      "metadata": {
        "id": "8yLyM-1OdRf5"
      }
    },
    {
      "cell_type": "code",
      "source": [
        "#6\n",
        "a = 10\n",
        "b = 20\n",
        "print(a+b)\n",
        "#here general addition is done "
      ],
      "metadata": {
        "colab": {
          "base_uri": "https://localhost:8080/"
        },
        "id": "LUXlA4pvafN7",
        "outputId": "f46972ba-4ffe-4dd9-b23b-95edd65dcfc4"
      },
      "execution_count": 7,
      "outputs": [
        {
          "output_type": "stream",
          "name": "stdout",
          "text": [
            "30\n"
          ]
        }
      ]
    },
    {
      "cell_type": "code",
      "source": [
        "#7\n",
        "number = int(input(\"enter a number: \"))\n",
        "sqrt = number ** 0.5\n",
        "print(\"square root:\", sqrt)\n",
        "#the operation of finding square root is done here with 64"
      ],
      "metadata": {
        "colab": {
          "base_uri": "https://localhost:8080/"
        },
        "id": "9l-hIx8JafKy",
        "outputId": "14ee1023-3c15-414d-d2ee-e604c44e200b"
      },
      "execution_count": 9,
      "outputs": [
        {
          "output_type": "stream",
          "name": "stdout",
          "text": [
            "enter a number: 64\n",
            "square root: 8.0\n"
          ]
        }
      ]
    },
    {
      "cell_type": "code",
      "source": [
        "#8\n",
        "n1 = 5\n",
        "n2 = 10\n",
        "n3 = 2\n",
        "n4 = 3\n",
        "n5= 4\n",
        "\n",
        "x1 = n1**2\n",
        "x2 = n2**2\n",
        "x3 = n3**2\n",
        "x4 = n4**2\n",
        "x5 = n5**2"
      ],
      "metadata": {
        "id": "BCSJn11oafCT"
      },
      "execution_count": 10,
      "outputs": []
    },
    {
      "cell_type": "code",
      "source": [
        "'''\n",
        "print(x1 / 2)\n",
        "print(x2 / 2)\n",
        "print(x3 / 2)\n",
        "print(x4 / 2)\n",
        "print(x5 / 2)\n",
        "'''\n",
        "\n",
        "print(x1 // 2)\n",
        "print(x2 // 2)\n",
        "print(x3 // 2)\n",
        "print(x4 // 2)\n",
        "print(x5 // 2)\n",
        "#Division problem is done here"
      ],
      "metadata": {
        "colab": {
          "base_uri": "https://localhost:8080/"
        },
        "id": "0sOcXd5Eae5s",
        "outputId": "224dcd58-d397-4da4-c023-660f3ed51432"
      },
      "execution_count": 11,
      "outputs": [
        {
          "output_type": "stream",
          "name": "stdout",
          "text": [
            "12\n",
            "50\n",
            "2\n",
            "4\n",
            "8\n"
          ]
        }
      ]
    },
    {
      "cell_type": "markdown",
      "source": [
        "Lists and Arrays"
      ],
      "metadata": {
        "id": "mP4XCF7idYVA"
      }
    },
    {
      "cell_type": "code",
      "source": [
        "# 9 & 10 \n",
        "#List of strings\n",
        "list1 = [\"This\" , \"is\", \"a\", \"sample\", \"program\"]\n",
        "# List of ints\n",
        "list2 = [10, 2, 45, 3, 5, 7, 8, 10]\n",
        "# Merge two lists\n",
        "final_list = list1 + list2\n",
        "print('Merged List:')\n",
        "print(final_list)\n",
        "# two lists and arrays are crated and combined here"
      ],
      "metadata": {
        "colab": {
          "base_uri": "https://localhost:8080/"
        },
        "id": "1Wh9B5lkbqzL",
        "outputId": "6f1d02ba-5f9e-4b4d-b345-6a67553bdd0f"
      },
      "execution_count": 12,
      "outputs": [
        {
          "output_type": "stream",
          "name": "stdout",
          "text": [
            "Merged List:\n",
            "['This', 'is', 'a', 'sample', 'program', 10, 2, 45, 3, 5, 7, 8, 10]\n"
          ]
        }
      ]
    },
    {
      "cell_type": "markdown",
      "source": [
        "Converting objects"
      ],
      "metadata": {
        "id": "3ibq3kmvdq7y"
      }
    },
    {
      "cell_type": "code",
      "source": [
        "#11\n",
        "b = 123\n",
        "c = 2j\n",
        "d = 1.0\n",
        "\n",
        "a1 = float(b)\n",
        "a2 = int(b)\n",
        "a3 = str(d)\n",
        "print(a1)\n",
        "print(a2)\n",
        "print(a3)\n",
        "# objects are converted"
      ],
      "metadata": {
        "colab": {
          "base_uri": "https://localhost:8080/"
        },
        "id": "nN9WWfmxbtHD",
        "outputId": "d4c13579-d973-4f6b-8c2a-e7da0a056d4b"
      },
      "execution_count": 13,
      "outputs": [
        {
          "output_type": "stream",
          "name": "stdout",
          "text": [
            "123.0\n",
            "123\n",
            "1.0\n"
          ]
        }
      ]
    },
    {
      "cell_type": "code",
      "source": [
        "#12\n",
        "text = \"hello world\"\n",
        "print(text.upper())\n",
        "# lower case strings are converted into uppercase"
      ],
      "metadata": {
        "colab": {
          "base_uri": "https://localhost:8080/"
        },
        "id": "npHZI25Ibs7o",
        "outputId": "e5aaaa54-c26e-4c35-cf60-aded908cec6e"
      },
      "execution_count": 14,
      "outputs": [
        {
          "output_type": "stream",
          "name": "stdout",
          "text": [
            "HELLO WORLD\n"
          ]
        }
      ]
    },
    {
      "cell_type": "markdown",
      "source": [
        "Challenge Section!!"
      ],
      "metadata": {
        "id": "DwcpOSWdd0FP"
      }
    },
    {
      "cell_type": "code",
      "source": [
        "#13\n",
        "list(\"python\")\n",
        "# python is printed as one letter at a time"
      ],
      "metadata": {
        "colab": {
          "base_uri": "https://localhost:8080/"
        },
        "id": "KtN57NXlbswa",
        "outputId": "326d83f9-6e04-4070-de81-d1ddd8e5225e"
      },
      "execution_count": 15,
      "outputs": [
        {
          "output_type": "execute_result",
          "data": {
            "text/plain": [
              "['p', 'y', 't', 'h', 'o', 'n']"
            ]
          },
          "metadata": {},
          "execution_count": 15
        }
      ]
    },
    {
      "cell_type": "code",
      "source": [
        "#13\n",
        "a_string = \"python\"\n",
        "for letter in a_string:\n",
        "  print(letter)\n",
        "  # python is printed as one letter at a time"
      ],
      "metadata": {
        "id": "yejevSF_b-7W"
      },
      "execution_count": null,
      "outputs": []
    },
    {
      "cell_type": "code",
      "source": [
        "#14\n",
        "a_string = \"python\"\n",
        "print(a_string[3])\n",
        "#find 3rd letter in the previous string"
      ],
      "metadata": {
        "colab": {
          "base_uri": "https://localhost:8080/"
        },
        "id": "zKcWInUmcK_e",
        "outputId": "ea18a90e-ee1e-4a82-d2a3-4b135f07a7cd"
      },
      "execution_count": 17,
      "outputs": [
        {
          "output_type": "stream",
          "name": "stdout",
          "text": [
            "h\n"
          ]
        }
      ]
    },
    {
      "cell_type": "code",
      "source": [
        "#15\n",
        "import sys\n",
        "print(\"Python version\")\n",
        "print(sys.version)\n",
        "print(\"Version. info\")\n",
        "print(sys.version_info)\n",
        "#system version is printed in this statment"
      ],
      "metadata": {
        "colab": {
          "base_uri": "https://localhost:8080/"
        },
        "id": "OuagG8JncKyO",
        "outputId": "6b029999-29c4-43a5-81ec-9ebabd51bc2e"
      },
      "execution_count": 18,
      "outputs": [
        {
          "output_type": "stream",
          "name": "stdout",
          "text": [
            "Python version\n",
            "3.7.12 (default, Sep 10 2021, 00:21:48) \n",
            "[GCC 7.5.0]\n",
            "Version. info\n",
            "sys.version_info(major=3, minor=7, micro=12, releaselevel='final', serial=0)\n"
          ]
        }
      ]
    },
    {
      "cell_type": "code",
      "source": [
        ""
      ],
      "metadata": {
        "id": "XCerY_EjcKn1"
      },
      "execution_count": null,
      "outputs": []
    }
  ]
}